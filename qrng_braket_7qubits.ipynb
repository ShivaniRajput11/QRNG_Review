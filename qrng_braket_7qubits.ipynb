{
 "cells": [
  {
   "cell_type": "code",
   "execution_count": 1,
   "id": "c47a0df1",
   "metadata": {},
   "outputs": [],
   "source": [
    "# Use Braket SDK Cost Tracking to estimate the cost to run this example\n",
    "from braket.tracking import Tracker\n",
    "t = Tracker().start()"
   ]
  },
  {
   "cell_type": "code",
   "execution_count": 4,
   "id": "4421e254",
   "metadata": {},
   "outputs": [],
   "source": [
    "# general imports\n",
    "import numpy as np\n",
    "import matplotlib.pyplot as plt\n",
    "import boto3\n",
    "# magic word for producing visualizations in notebook\n",
    "%matplotlib inline\n",
    "import string\n",
    "import time\n",
    "import boto3\n",
    "\n",
    "# AWS imports: Import Braket SDK modules\n",
    "from braket.circuits import Circuit, Gate, Observable\n",
    "from braket.devices import LocalSimulator\n",
    "from braket.aws import AwsDevice, AwsQuantumTask"
   ]
  },
  {
   "cell_type": "code",
   "execution_count": 5,
   "id": "b8cc020e",
   "metadata": {},
   "outputs": [],
   "source": [
    "aws_account_id = boto3.client(\"sts\").get_caller_identity()[\"Account\"]"
   ]
  },
  {
   "cell_type": "code",
   "execution_count": 6,
   "id": "b6d78b49",
   "metadata": {},
   "outputs": [],
   "source": [
    "s3_folder = (\"amazon-braket-output-demo\",\"qrng-result\")"
   ]
  },
  {
   "cell_type": "code",
   "execution_count": 7,
   "id": "78919474",
   "metadata": {},
   "outputs": [],
   "source": [
    "device = AwsDevice(\"arn:aws:braket:::device/qpu/ionq/ionQdevice\")"
   ]
  },
  {
   "cell_type": "code",
   "execution_count": 8,
   "id": "e2039aca",
   "metadata": {},
   "outputs": [],
   "source": [
    "# function for Hadamard cirquit\n",
    "def hadamard_circuit(n_qubits):\n",
    "    \"\"\"\n",
    "    function to apply Hadamard gate on each qubit\n",
    "    input: number of qubits\n",
    "    \"\"\"\n",
    "\n",
    "    # instantiate circuit object\n",
    "    circuit = Circuit()\n",
    "\n",
    "    # apply series of Hadamard gates\n",
    "    for i in range(n_qubits):\n",
    "        circuit.h(i)\n",
    "    return circuit"
   ]
  },
  {
   "cell_type": "code",
   "execution_count": 9,
   "id": "d89d83de",
   "metadata": {},
   "outputs": [
    {
     "name": "stdout",
     "output_type": "stream",
     "text": [
      "T  : |0|\n",
      "        \n",
      "q0 : -H-\n",
      "        \n",
      "q1 : -H-\n",
      "        \n",
      "q2 : -H-\n",
      "        \n",
      "q3 : -H-\n",
      "        \n",
      "q4 : -H-\n",
      "        \n",
      "q5 : -H-\n",
      "        \n",
      "q6 : -H-\n",
      "\n",
      "T  : |0|\n"
     ]
    }
   ],
   "source": [
    "# define circuit\n",
    "n_qubits = 7\n",
    "state = hadamard_circuit(n_qubits)\n",
    "# print circuit\n",
    "print(state)\n",
    "\n",
    "# run circuit\n",
    "#m_shots = 1\n",
    "#result = device.run(state, shots = m_shots).result()\n",
    "\n",
    "# get measurement shots\n",
    "#counts = result.measurement_counts.keys()"
   ]
  },
  {
   "cell_type": "code",
   "execution_count": 10,
   "id": "0ec2f23c",
   "metadata": {},
   "outputs": [],
   "source": [
    "task = device.run(state, s3_folder, shots= 100)"
   ]
  },
  {
   "cell_type": "code",
   "execution_count": 11,
   "id": "4fb84762",
   "metadata": {},
   "outputs": [],
   "source": [
    "result = task.result()"
   ]
  },
  {
   "cell_type": "code",
   "execution_count": 12,
   "id": "eddb915f",
   "metadata": {},
   "outputs": [],
   "source": [
    "counts = result.measurement_counts"
   ]
  },
  {
   "cell_type": "code",
   "execution_count": 13,
   "id": "15efba6e",
   "metadata": {},
   "outputs": [],
   "source": [
    "int_counts = {}\n",
    "for bitstring in counts:\n",
    "    int_counts[ int(bitstring,2) ] = counts[bitstring]\n"
   ]
  },
  {
   "cell_type": "code",
   "execution_count": 14,
   "id": "6af750d3",
   "metadata": {},
   "outputs": [
    {
     "name": "stdout",
     "output_type": "stream",
     "text": [
      "RawCount: Counter({'0110010': 4, '1111111': 4, '1010101': 3, '0000000': 2, '1000000': 2, '1011000': 2, '0111000': 2, '1100100': 2, '1110100': 2, '1110010': 2, '0001010': 2, '0011010': 2, '1100110': 2, '0110110': 2, '1110001': 2, '0101001': 2, '1110101': 2, '0100011': 2, '1100011': 2, '1001011': 2, '0111011': 2, '1000111': 2, '0110111': 2, '1110111': 2, '1101111': 2, '1011111': 2, '1100000': 1, '0110000': 1, '0001000': 1, '0011000': 1, '0000100': 1, '1000100': 1, '0010100': 1, '0110100': 1, '0001100': 1, '0011100': 1, '1011100': 1, '0000010': 1, '0100010': 1, '1010010': 1, '1001010': 1, '0101010': 1, '0100110': 1, '0011110': 1, '1011110': 1, '0111110': 1, '0000001': 1, '1000001': 1, '0010001': 1, '1001001': 1, '1101001': 1, '0111001': 1, '1111001': 1, '0001101': 1, '1001101': 1, '1101101': 1, '0011101': 1, '1011101': 1, '0111101': 1, '1010011': 1, '1110011': 1, '0001011': 1, '1101011': 1, '1011011': 1, '1111011': 1, '0010111': 1, '1010111': 1, '1001111': 1, '0111111': 1})\n"
     ]
    }
   ],
   "source": [
    "print(\"RawCount:\",counts)"
   ]
  },
  {
   "cell_type": "code",
   "execution_count": 15,
   "id": "82de44fa",
   "metadata": {},
   "outputs": [
    {
     "name": "stdout",
     "output_type": "stream",
     "text": [
      "[0, 64, 96, 48, 8, 24, 88, 56, 4, 68, 100, 20, 52, 116, 12, 28, 92, 2, 34, 82, 50, 114, 10, 74, 42, 26, 38, 102, 54, 30, 94, 62, 1, 65, 17, 113, 73, 41, 105, 57, 121, 85, 117, 13, 77, 109, 29, 93, 61, 35, 99, 83, 115, 11, 75, 107, 91, 59, 123, 71, 23, 87, 55, 119, 79, 111, 95, 63, 127]\n"
     ]
    }
   ],
   "source": [
    "int_data = []\n",
    "for bitstring in counts:\n",
    "    int_data.append( int(bitstring,2) )\n",
    "print(int_data)"
   ]
  },
  {
   "cell_type": "code",
   "execution_count": null,
   "id": "c3f24fdc",
   "metadata": {},
   "outputs": [],
   "source": []
  },
  {
   "cell_type": "code",
   "execution_count": null,
   "id": "a8d68b33",
   "metadata": {},
   "outputs": [],
   "source": []
  }
 ],
 "metadata": {
  "kernelspec": {
   "display_name": "conda_braket",
   "language": "python",
   "name": "conda_braket"
  },
  "language_info": {
   "codemirror_mode": {
    "name": "ipython",
    "version": 3
   },
   "file_extension": ".py",
   "mimetype": "text/x-python",
   "name": "python",
   "nbconvert_exporter": "python",
   "pygments_lexer": "ipython3",
   "version": "3.7.13"
  }
 },
 "nbformat": 4,
 "nbformat_minor": 5
}
