{
 "cells": [
  {
   "cell_type": "code",
   "execution_count": 1,
   "id": "c47a0df1",
   "metadata": {},
   "outputs": [],
   "source": [
    "# Use Braket SDK Cost Tracking to estimate the cost to run this example\n",
    "from braket.tracking import Tracker\n",
    "t = Tracker().start()"
   ]
  },
  {
   "cell_type": "code",
   "execution_count": 2,
   "id": "4421e254",
   "metadata": {},
   "outputs": [],
   "source": [
    "# general imports\n",
    "import numpy as np\n",
    "import matplotlib.pyplot as plt\n",
    "import boto3\n",
    "# magic word for producing visualizations in notebook\n",
    "%matplotlib inline\n",
    "import string\n",
    "import time\n",
    "import boto3\n",
    "\n",
    "# AWS imports: Import Braket SDK modules\n",
    "from braket.circuits import Circuit, Gate, Observable\n",
    "from braket.devices import LocalSimulator\n",
    "from braket.aws import AwsDevice, AwsQuantumTask"
   ]
  },
  {
   "cell_type": "code",
   "execution_count": 3,
   "id": "b8cc020e",
   "metadata": {},
   "outputs": [],
   "source": [
    "aws_account_id = boto3.client(\"sts\").get_caller_identity()[\"Account\"]"
   ]
  },
  {
   "cell_type": "code",
   "execution_count": 4,
   "id": "b6d78b49",
   "metadata": {},
   "outputs": [],
   "source": [
    "s3_folder = (\"amazon-braket-output-demo\",\"qrng-result\")"
   ]
  },
  {
   "cell_type": "code",
   "execution_count": 5,
   "id": "78919474",
   "metadata": {},
   "outputs": [],
   "source": [
    "device = AwsDevice(\"arn:aws:braket:::device/qpu/ionq/ionQdevice\")"
   ]
  },
  {
   "cell_type": "code",
   "execution_count": 6,
   "id": "e2039aca",
   "metadata": {},
   "outputs": [],
   "source": [
    "# function for Hadamard cirquit\n",
    "def hadamard_circuit(n_qubits):\n",
    "    \"\"\"\n",
    "    function to apply Hadamard gate on each qubit\n",
    "    input: number of qubits\n",
    "    \"\"\"\n",
    "\n",
    "    # instantiate circuit object\n",
    "    circuit = Circuit()\n",
    "\n",
    "    # apply series of Hadamard gates\n",
    "    for i in range(n_qubits):\n",
    "        circuit.h(i)\n",
    "    return circuit"
   ]
  },
  {
   "cell_type": "code",
   "execution_count": 7,
   "id": "d89d83de",
   "metadata": {},
   "outputs": [
    {
     "name": "stdout",
     "output_type": "stream",
     "text": [
      "T  : |0|\n",
      "        \n",
      "q0 : -H-\n",
      "        \n",
      "q1 : -H-\n",
      "        \n",
      "q2 : -H-\n",
      "        \n",
      "q3 : -H-\n",
      "        \n",
      "q4 : -H-\n",
      "\n",
      "T  : |0|\n"
     ]
    }
   ],
   "source": [
    "# define circuit\n",
    "n_qubits = 5\n",
    "state = hadamard_circuit(n_qubits)\n",
    "# print circuit\n",
    "print(state)\n",
    "\n",
    "# run circuit\n",
    "#m_shots = 1\n",
    "#result = device.run(state, shots = m_shots).result()\n",
    "\n",
    "# get measurement shots\n",
    "#counts = result.measurement_counts.keys()"
   ]
  },
  {
   "cell_type": "code",
   "execution_count": 8,
   "id": "0ec2f23c",
   "metadata": {},
   "outputs": [],
   "source": [
    "task = device.run(state, s3_folder, shots= 100)"
   ]
  },
  {
   "cell_type": "code",
   "execution_count": 9,
   "id": "4fb84762",
   "metadata": {},
   "outputs": [],
   "source": [
    "result = task.result()"
   ]
  },
  {
   "cell_type": "code",
   "execution_count": 10,
   "id": "eddb915f",
   "metadata": {},
   "outputs": [],
   "source": [
    "counts = result.measurement_counts"
   ]
  },
  {
   "cell_type": "code",
   "execution_count": 11,
   "id": "15efba6e",
   "metadata": {},
   "outputs": [],
   "source": [
    "int_counts = {}\n",
    "for bitstring in counts:\n",
    "    int_counts[ int(bitstring,2) ] = counts[bitstring]\n"
   ]
  },
  {
   "cell_type": "code",
   "execution_count": 12,
   "id": "6af750d3",
   "metadata": {},
   "outputs": [
    {
     "name": "stdout",
     "output_type": "stream",
     "text": [
      "RawCount: Counter({'11001': 7, '10011': 6, '00100': 5, '01110': 5, '11110': 5, '00001': 5, '01001': 5, '00000': 4, '01000': 4, '10010': 4, '01010': 4, '00110': 4, '11000': 3, '10100': 3, '01100': 3, '11010': 3, '10001': 3, '00101': 3, '10101': 3, '01011': 3, '11011': 3, '10111': 3, '01111': 3, '00111': 2, '11111': 2, '11100': 1, '10110': 1, '01101': 1, '11101': 1, '00011': 1})\n"
     ]
    }
   ],
   "source": [
    "print(\"RawCount:\",counts)"
   ]
  },
  {
   "cell_type": "code",
   "execution_count": 13,
   "id": "82de44fa",
   "metadata": {},
   "outputs": [
    {
     "name": "stdout",
     "output_type": "stream",
     "text": [
      "[0, 8, 24, 4, 20, 12, 28, 18, 10, 26, 6, 22, 14, 30, 1, 17, 9, 25, 5, 21, 13, 29, 3, 19, 11, 27, 7, 23, 15, 31]\n"
     ]
    }
   ],
   "source": [
    "int_data = []\n",
    "for bitstring in counts:\n",
    "    int_data.append( int(bitstring,2) )\n",
    "print(int_data)"
   ]
  },
  {
   "cell_type": "code",
   "execution_count": null,
   "id": "c3f24fdc",
   "metadata": {},
   "outputs": [],
   "source": []
  },
  {
   "cell_type": "code",
   "execution_count": null,
   "id": "a8d68b33",
   "metadata": {},
   "outputs": [],
   "source": []
  }
 ],
 "metadata": {
  "kernelspec": {
   "display_name": "conda_braket",
   "language": "python",
   "name": "conda_braket"
  },
  "language_info": {
   "codemirror_mode": {
    "name": "ipython",
    "version": 3
   },
   "file_extension": ".py",
   "mimetype": "text/x-python",
   "name": "python",
   "nbconvert_exporter": "python",
   "pygments_lexer": "ipython3",
   "version": "3.7.13"
  }
 },
 "nbformat": 4,
 "nbformat_minor": 5
}
